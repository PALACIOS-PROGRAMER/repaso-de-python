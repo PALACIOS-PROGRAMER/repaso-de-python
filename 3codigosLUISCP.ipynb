{
  "nbformat": 4,
  "nbformat_minor": 0,
  "metadata": {
    "colab": {
      "provenance": [],
      "authorship_tag": "ABX9TyOZiYt36/rKtSU6xPVvGLbZ",
      "include_colab_link": true
    },
    "kernelspec": {
      "name": "python3",
      "display_name": "Python 3"
    },
    "language_info": {
      "name": "python"
    }
  },
  "cells": [
    {
      "cell_type": "markdown",
      "metadata": {
        "id": "view-in-github",
        "colab_type": "text"
      },
      "source": [
        "<a href=\"https://colab.research.google.com/github/PALACIOS-PROGRAMER/repaso-de-python/blob/main/3codigosLUISCP.ipynb\" target=\"_parent\"><img src=\"https://colab.research.google.com/assets/colab-badge.svg\" alt=\"Open In Colab\"/></a>"
      ]
    },
    {
      "cell_type": "code",
      "execution_count": null,
      "metadata": {
        "id": "VY42lmQK_Fl5"
      },
      "outputs": [],
      "source": []
    },
    {
      "cell_type": "markdown",
      "source": [
        "Realizar un programa en python que te permita capturar 3 números enteros e imprima cual de los 3 es el mayor\n"
      ],
      "metadata": {
        "id": "0MakXUOA_cMi"
      }
    },
    {
      "cell_type": "code",
      "source": [
        "num1  = int(input(\"Ingrese el primer numero: \"))\n",
        "num2  = int(input(\"Ingrese el segundo numero: \"))\n",
        "num3  = int(input(\"Ingrese el tercer numero: \"))\n",
        "\n",
        "if num1 >= num2:\n",
        "  if num1 >= num3:\n",
        "    print(\"El numero mayor es:\", num1)\n",
        "  else:\n",
        "    print(\"El numero mayor es:\", num3)\n",
        "elif num2 >= num3:\n",
        "  print(\"El numero mayor es:\", num2)\n",
        "else:\n",
        "  print(\"El numero mayor es:\", num3)"
      ],
      "metadata": {
        "colab": {
          "base_uri": "https://localhost:8080/"
        },
        "id": "A2xD1Z-M_dYp",
        "outputId": "ddda9a0a-48a0-4e63-f017-519cd52cd8a3"
      },
      "execution_count": 4,
      "outputs": [
        {
          "output_type": "stream",
          "name": "stdout",
          "text": [
            "Ingrese el primer numero: 20\n",
            "Ingrese el segundo numero: 25\n",
            "Ingrese el tercer numero: 30\n",
            "El numero mayor es: 30\n"
          ]
        }
      ]
    },
    {
      "cell_type": "markdown",
      "source": [
        " Realizar un programa en python mediante el cual calcules el total de caracteres que tiene un nombre capturado desde el teclado."
      ],
      "metadata": {
        "id": "8H_Z7A5tAYhr"
      }
    },
    {
      "cell_type": "code",
      "source": [
        "nombre = input(\"Ingrese su nombre: \")\n",
        "print(\"El nombre tiene\", len(nombre), \"caracteres\")"
      ],
      "metadata": {
        "colab": {
          "base_uri": "https://localhost:8080/"
        },
        "id": "RTyXQ6zTAbIL",
        "outputId": "e7c5cbec-7d40-434e-b944-ca1eae9d9f86"
      },
      "execution_count": 5,
      "outputs": [
        {
          "output_type": "stream",
          "name": "stdout",
          "text": [
            "Ingrese su nombre: luis\n",
            "El nombre tiene 4 caracteres\n"
          ]
        }
      ]
    },
    {
      "cell_type": "markdown",
      "source": [
        " Realizar un programa en python que permita imprimir los 7 días de la semana."
      ],
      "metadata": {
        "id": "DBMqxGwbAbkc"
      }
    },
    {
      "cell_type": "code",
      "source": [
        "dias = [\"Lunes\", \"Martes\", \"Miercoles\", \"Jueves\", \"Viernes\", \"Sabado\", \"Domingo\"]\n",
        "for dia in dias:\n",
        "  print(dia)"
      ],
      "metadata": {
        "colab": {
          "base_uri": "https://localhost:8080/"
        },
        "id": "NyMTkaYeAeFY",
        "outputId": "45289f63-4bc4-410a-ec26-98317df14d78"
      },
      "execution_count": 6,
      "outputs": [
        {
          "output_type": "stream",
          "name": "stdout",
          "text": [
            "Lunes\n",
            "Martes\n",
            "Miercoles\n",
            "Jueves\n",
            "Viernes\n",
            "Sabado\n",
            "Domingo\n"
          ]
        }
      ]
    }
  ]
}