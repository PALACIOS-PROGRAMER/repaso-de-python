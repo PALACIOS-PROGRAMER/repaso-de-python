{
  "nbformat": 4,
  "nbformat_minor": 0,
  "metadata": {
    "colab": {
      "provenance": [],
      "authorship_tag": "ABX9TyM37p/2FzPp36n18JVQi/3R",
      "include_colab_link": true
    },
    "kernelspec": {
      "name": "python3",
      "display_name": "Python 3"
    },
    "language_info": {
      "name": "python"
    }
  },
  "cells": [
    {
      "cell_type": "markdown",
      "metadata": {
        "id": "view-in-github",
        "colab_type": "text"
      },
      "source": [
        "<a href=\"https://colab.research.google.com/github/PALACIOS-PROGRAMER/repaso-de-python/blob/main/LUISCP.ipynb\" target=\"_parent\"><img src=\"https://colab.research.google.com/assets/colab-badge.svg\" alt=\"Open In Colab\"/></a>"
      ]
    },
    {
      "cell_type": "code",
      "execution_count": null,
      "metadata": {
        "id": "lk-SdcHMAR44"
      },
      "outputs": [],
      "source": []
    },
    {
      "cell_type": "markdown",
      "source": [
        "realizar un programa que permita capturar tu nombre y lo imprima seguida de una bienvenida"
      ],
      "metadata": {
        "id": "ou3k0n56AWgC"
      }
    },
    {
      "cell_type": "code",
      "source": [
        "print (\"hola mundo\")\n",
        "\n",
        "print(\"escribe tu nombre?\")\n",
        "nombre = input(\"ingresa tu nombre:\")\n",
        "print(\"tu nombre es\" , nombre)"
      ],
      "metadata": {
        "colab": {
          "base_uri": "https://localhost:8080/"
        },
        "id": "vOl6r6dvAoR5",
        "outputId": "d795a405-dbc9-434c-f8b3-6f3446cbf851"
      },
      "execution_count": 4,
      "outputs": [
        {
          "output_type": "stream",
          "name": "stdout",
          "text": [
            "hola mundo\n",
            "cual es tu nombre?\n",
            "ingresa tu nombre:guillermo\n",
            "tu nombre es guillermo\n"
          ]
        }
      ]
    },
    {
      "cell_type": "markdown",
      "source": [
        "realizar un programa que permita capturar dos numeros enteros e imprima la suma,la resta,la multiplicacion y la division entre ellos"
      ],
      "metadata": {
        "id": "tfwYA5kcCoBL"
      }
    },
    {
      "cell_type": "code",
      "source": [
        "num1=int(input(\"captura el primer numero:\"))\n",
        "num2=int(input(\"captura el segundo numero:\"))\n",
        "s=num1+num2\n",
        "print(\"la suma es\",s)\n",
        "r=num1-num2\n",
        "print(\"la resta es\",r)\n",
        "m=num1*num2\n",
        "print(\"la resta es\",r)\n",
        "d=num1/num2\n",
        "print(\"la division es\",d)\n",
        "\n"
      ],
      "metadata": {
        "colab": {
          "base_uri": "https://localhost:8080/"
        },
        "id": "rCxfTWtYC3Hs",
        "outputId": "3ca11fec-742d-4714-9888-9dd464b0d5d8"
      },
      "execution_count": 9,
      "outputs": [
        {
          "output_type": "stream",
          "name": "stdout",
          "text": [
            "captura el primer numero:5\n",
            "captura el segundo numero:2\n",
            "la suma es 7\n",
            "la resta es 3\n",
            "la resta es 3\n",
            "la division es 2.5\n"
          ]
        }
      ]
    }
  ]
}